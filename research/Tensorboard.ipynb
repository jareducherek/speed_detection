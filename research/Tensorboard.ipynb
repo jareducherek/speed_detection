{
 "cells": [
  {
   "cell_type": "code",
   "execution_count": 15,
   "metadata": {},
   "outputs": [],
   "source": [
    "import torch"
   ]
  },
  {
   "cell_type": "code",
   "execution_count": 16,
   "metadata": {},
   "outputs": [
    {
     "data": {
      "text/plain": [
       "4"
      ]
     },
     "execution_count": 16,
     "metadata": {},
     "output_type": "execute_result"
    }
   ],
   "source": [
    "torch.cuda.device_count()"
   ]
  },
  {
   "cell_type": "code",
   "execution_count": 17,
   "metadata": {},
   "outputs": [
    {
     "name": "stdout",
     "output_type": "stream",
     "text": [
      " detr\r\n",
      "'efficientnet-b4-batch=20-epochs=50'\r\n",
      "'fast_mask_no_holdout_overfit_efficientnet-b4-batch=20-epochs=50'\r\n",
      "'overfit_fast_mask_holdout_efficientnet-b4-batch=20-epochs=50'\r\n",
      " superpoint_v1.pth\r\n"
     ]
    }
   ],
   "source": [
    "!ls /home/jared/Research/speed_detection/models/"
   ]
  },
  {
   "cell_type": "code",
   "execution_count": 22,
   "metadata": {},
   "outputs": [
    {
     "name": "stdout",
     "output_type": "stream",
     "text": [
      "The tensorboard extension is already loaded. To reload it, use:\n",
      "  %reload_ext tensorboard\n"
     ]
    },
    {
     "data": {
      "text/html": [
       "\n",
       "      <iframe id=\"tensorboard-frame-835dba2c3d325753\" width=\"100%\" height=\"800\" frameborder=\"0\">\n",
       "      </iframe>\n",
       "      <script>\n",
       "        (function() {\n",
       "          const frame = document.getElementById(\"tensorboard-frame-835dba2c3d325753\");\n",
       "          const url = new URL(\"/\", window.location);\n",
       "          const port = 45223;\n",
       "          if (port) {\n",
       "            url.port = port;\n",
       "          }\n",
       "          frame.src = url;\n",
       "        })();\n",
       "      </script>\n",
       "    "
      ],
      "text/plain": [
       "<IPython.core.display.HTML object>"
      ]
     },
     "metadata": {},
     "output_type": "display_data"
    }
   ],
   "source": [
    "%load_ext tensorboard\n",
    "%tensorboard --logdir=/home/jared/Research/speed_detection/models/efficientnet-b4-batch=20-epochs=50/tensorboard --port=45223"
   ]
  },
  {
   "cell_type": "code",
   "execution_count": 20,
   "metadata": {},
   "outputs": [
    {
     "name": "stdout",
     "output_type": "stream",
     "text": [
      "COMMAND     PID  USER   FD   TYPE  DEVICE SIZE/OFF NODE NAME\r\n",
      "tensorboa 17264 jared    3u  IPv4 5109330      0t0  TCP localhost:45223 (LISTEN)\r\n",
      "tensorboa 17264 jared    4u  IPv4 5109331      0t0  TCP localhost:45223->localhost:47292 (ESTABLISHED)\r\n",
      "tensorboa 17264 jared    5u  IPv4 5107517      0t0  TCP localhost:45223->localhost:47294 (ESTABLISHED)\r\n",
      "tensorboa 17264 jared    6u  IPv4 5107518      0t0  TCP localhost:45223->localhost:47296 (ESTABLISHED)\r\n",
      "tensorboa 17264 jared    7u  IPv4 5107519      0t0  TCP localhost:45223->localhost:47298 (ESTABLISHED)\r\n"
     ]
    }
   ],
   "source": [
    "#useful for re opening the tensboard widget. May also need to:\n",
    "#!rm -rf /tmp/tensorboard*\n",
    "!lsof -i:45223"
   ]
  },
  {
   "cell_type": "code",
   "execution_count": 21,
   "metadata": {},
   "outputs": [],
   "source": [
    "!kill -9 17264"
   ]
  },
  {
   "cell_type": "code",
   "execution_count": null,
   "metadata": {},
   "outputs": [],
   "source": []
  }
 ],
 "metadata": {
  "kernelspec": {
   "display_name": "speed_detection",
   "language": "python",
   "name": "speed_detection"
  },
  "language_info": {
   "codemirror_mode": {
    "name": "ipython",
    "version": 3
   },
   "file_extension": ".py",
   "mimetype": "text/x-python",
   "name": "python",
   "nbconvert_exporter": "python",
   "pygments_lexer": "ipython3",
   "version": "3.7.7"
  }
 },
 "nbformat": 4,
 "nbformat_minor": 4
}
